{
 "cells": [
  {
   "cell_type": "code",
   "execution_count": 1,
   "id": "5807165a",
   "metadata": {},
   "outputs": [],
   "source": [
    "a= \"sudh\"\n"
   ]
  },
  {
   "cell_type": "code",
   "execution_count": 2,
   "id": "d3d5d31b",
   "metadata": {},
   "outputs": [
    {
     "data": {
      "text/plain": [
       "4"
      ]
     },
     "execution_count": 2,
     "metadata": {},
     "output_type": "execute_result"
    }
   ],
   "source": [
    "len(a)"
   ]
  },
  {
   "cell_type": "code",
   "execution_count": 3,
   "id": "ecfb8e8f",
   "metadata": {},
   "outputs": [
    {
     "data": {
      "text/plain": [
       "6"
      ]
     },
     "execution_count": 3,
     "metadata": {},
     "output_type": "execute_result"
    }
   ],
   "source": [
    " l=[2,3,4,5,\"ashiq\",4.67]\n",
    "len(l)"
   ]
  },
  {
   "cell_type": "code",
   "execution_count": 4,
   "id": "9f9162c8",
   "metadata": {},
   "outputs": [],
   "source": [
    "#why we are creating a function ,just to increase the re usability of the code ?"
   ]
  },
  {
   "cell_type": "code",
   "execution_count": 5,
   "id": "b6d63316",
   "metadata": {},
   "outputs": [],
   "source": [
    "#def means definition of a function\n",
    "#so to denote a function, we starts with a 'def'"
   ]
  },
  {
   "cell_type": "code",
   "execution_count": 9,
   "id": "54bbe980",
   "metadata": {},
   "outputs": [],
   "source": [
    "def test():\n",
    "    pass"
   ]
  },
  {
   "cell_type": "code",
   "execution_count": 11,
   "id": "1c1b47cc",
   "metadata": {},
   "outputs": [],
   "source": [
    "def test1():\n",
    "    print(\"this is my very first function in python\")\n",
    "    "
   ]
  },
  {
   "cell_type": "code",
   "execution_count": 12,
   "id": "8beb3858",
   "metadata": {},
   "outputs": [
    {
     "name": "stdout",
     "output_type": "stream",
     "text": [
      "this is my very first function in python\n"
     ]
    }
   ],
   "source": [
    "test1() #call off function"
   ]
  },
  {
   "cell_type": "code",
   "execution_count": 13,
   "id": "9c35b82a",
   "metadata": {},
   "outputs": [],
   "source": [
    "a=1"
   ]
  },
  {
   "cell_type": "code",
   "execution_count": 14,
   "id": "dd4e9809",
   "metadata": {},
   "outputs": [
    {
     "name": "stdout",
     "output_type": "stream",
     "text": [
      "this is my very first function in python\n"
     ]
    }
   ],
   "source": [
    "b=test1()"
   ]
  },
  {
   "cell_type": "code",
   "execution_count": 16,
   "id": "9e27b862",
   "metadata": {},
   "outputs": [
    {
     "name": "stdout",
     "output_type": "stream",
     "text": [
      "None\n"
     ]
    }
   ],
   "source": [
    "print(b) #no information in the \"b\""
   ]
  },
  {
   "cell_type": "code",
   "execution_count": 17,
   "id": "12e95cae",
   "metadata": {},
   "outputs": [],
   "source": [
    "c=\"kumar\""
   ]
  },
  {
   "cell_type": "code",
   "execution_count": 18,
   "id": "ac91d701",
   "metadata": {},
   "outputs": [
    {
     "data": {
      "text/plain": [
       "str"
      ]
     },
     "execution_count": 18,
     "metadata": {},
     "output_type": "execute_result"
    }
   ],
   "source": [
    "type(c)"
   ]
  },
  {
   "cell_type": "code",
   "execution_count": 19,
   "id": "b22b3a2b",
   "metadata": {},
   "outputs": [
    {
     "data": {
      "text/plain": [
       "NoneType"
      ]
     },
     "execution_count": 19,
     "metadata": {},
     "output_type": "execute_result"
    }
   ],
   "source": [
    "type(b)"
   ]
  },
  {
   "cell_type": "code",
   "execution_count": 22,
   "id": "4210fa9b",
   "metadata": {},
   "outputs": [
    {
     "name": "stdout",
     "output_type": "stream",
     "text": [
      "this is my very first function in python\n"
     ]
    },
    {
     "data": {
      "text/plain": [
       "NoneType"
      ]
     },
     "execution_count": 22,
     "metadata": {},
     "output_type": "execute_result"
    }
   ],
   "source": [
    "type(test1())"
   ]
  },
  {
   "cell_type": "code",
   "execution_count": 23,
   "id": "45a0dcf9",
   "metadata": {},
   "outputs": [],
   "source": [
    "def test2():\n",
    "    return 5"
   ]
  },
  {
   "cell_type": "code",
   "execution_count": 24,
   "id": "2f45a3a8",
   "metadata": {},
   "outputs": [
    {
     "data": {
      "text/plain": [
       "5"
      ]
     },
     "execution_count": 24,
     "metadata": {},
     "output_type": "execute_result"
    }
   ],
   "source": [
    "test2()"
   ]
  },
  {
   "cell_type": "code",
   "execution_count": 27,
   "id": "a2210608",
   "metadata": {},
   "outputs": [],
   "source": [
    "d=test2()"
   ]
  },
  {
   "cell_type": "code",
   "execution_count": 28,
   "id": "57badc67",
   "metadata": {},
   "outputs": [
    {
     "data": {
      "text/plain": [
       "5"
      ]
     },
     "execution_count": 28,
     "metadata": {},
     "output_type": "execute_result"
    }
   ],
   "source": [
    "d  #there is an info "
   ]
  },
  {
   "cell_type": "code",
   "execution_count": 30,
   "id": "ff866eec",
   "metadata": {},
   "outputs": [
    {
     "name": "stdout",
     "output_type": "stream",
     "text": [
      "this....\n"
     ]
    },
    {
     "data": {
      "text/plain": [
       "NoneType"
      ]
     },
     "execution_count": 30,
     "metadata": {},
     "output_type": "execute_result"
    }
   ],
   "source": [
    "type(print(\"this....\"))"
   ]
  },
  {
   "cell_type": "code",
   "execution_count": 31,
   "id": "c53e0fed",
   "metadata": {},
   "outputs": [],
   "source": [
    "def test3():\n",
    "    return 5"
   ]
  },
  {
   "cell_type": "code",
   "execution_count": 32,
   "id": "bde241df",
   "metadata": {},
   "outputs": [],
   "source": [
    "def test4():\n",
    "    print(\"this is my print return\")"
   ]
  },
  {
   "cell_type": "code",
   "execution_count": 33,
   "id": "d464eb40",
   "metadata": {},
   "outputs": [
    {
     "data": {
      "text/plain": [
       "5"
      ]
     },
     "execution_count": 33,
     "metadata": {},
     "output_type": "execute_result"
    }
   ],
   "source": [
    "test3()"
   ]
  },
  {
   "cell_type": "code",
   "execution_count": 34,
   "id": "a3cfde1f",
   "metadata": {},
   "outputs": [
    {
     "name": "stdout",
     "output_type": "stream",
     "text": [
      "this is my print return\n"
     ]
    }
   ],
   "source": [
    "test4()"
   ]
  },
  {
   "cell_type": "code",
   "execution_count": 35,
   "id": "b55eb05e",
   "metadata": {},
   "outputs": [
    {
     "name": "stdout",
     "output_type": "stream",
     "text": [
      "this is my print return\n"
     ]
    },
    {
     "data": {
      "text/plain": [
       "NoneType"
      ]
     },
     "execution_count": 35,
     "metadata": {},
     "output_type": "execute_result"
    }
   ],
   "source": [
    "type(test4())"
   ]
  },
  {
   "cell_type": "code",
   "execution_count": 36,
   "id": "7ed8247e",
   "metadata": {},
   "outputs": [
    {
     "data": {
      "text/plain": [
       "int"
      ]
     },
     "execution_count": 36,
     "metadata": {},
     "output_type": "execute_result"
    }
   ],
   "source": [
    "type(test3()) #primtive outcome ,where we can perform some content"
   ]
  },
  {
   "cell_type": "code",
   "execution_count": 37,
   "id": "ed9665ed",
   "metadata": {},
   "outputs": [
    {
     "name": "stdout",
     "output_type": "stream",
     "text": [
      "this is my print return\n"
     ]
    }
   ],
   "source": [
    "e=test4()"
   ]
  },
  {
   "cell_type": "code",
   "execution_count": 39,
   "id": "0beba7aa",
   "metadata": {},
   "outputs": [
    {
     "ename": "TypeError",
     "evalue": "unsupported operand type(s) for +: 'NoneType' and 'str'",
     "output_type": "error",
     "traceback": [
      "\u001b[1;31m---------------------------------------------------------------------------\u001b[0m",
      "\u001b[1;31mTypeError\u001b[0m                                 Traceback (most recent call last)",
      "\u001b[1;32m~\\AppData\\Local\\Temp\\ipykernel_20804\\2221746917.py\u001b[0m in \u001b[0;36m<module>\u001b[1;34m\u001b[0m\n\u001b[1;32m----> 1\u001b[1;33m \u001b[0me\u001b[0m\u001b[1;33m+\u001b[0m\u001b[1;34m\"sudh\"\u001b[0m\u001b[1;33m\u001b[0m\u001b[1;33m\u001b[0m\u001b[0m\n\u001b[0m",
      "\u001b[1;31mTypeError\u001b[0m: unsupported operand type(s) for +: 'NoneType' and 'str'"
     ]
    }
   ],
   "source": [
    "e+\"sudh\" # nonetype and str cant concatenate"
   ]
  },
  {
   "cell_type": "code",
   "execution_count": null,
   "id": "bcb53683",
   "metadata": {},
   "outputs": [],
   "source": []
  },
  {
   "cell_type": "code",
   "execution_count": 45,
   "id": "1033ceb4",
   "metadata": {},
   "outputs": [],
   "source": [
    "def test5():\n",
    "    return \"vinoth\" #if we give print(),the type gonna be a nonetype"
   ]
  },
  {
   "cell_type": "code",
   "execution_count": 46,
   "id": "35501643",
   "metadata": {},
   "outputs": [
    {
     "data": {
      "text/plain": [
       "'vinothkumar'"
      ]
     },
     "execution_count": 46,
     "metadata": {},
     "output_type": "execute_result"
    }
   ],
   "source": [
    "test5()+\"kumar\""
   ]
  },
  {
   "cell_type": "code",
   "execution_count": 49,
   "id": "5b31ef68",
   "metadata": {},
   "outputs": [],
   "source": [
    "def test6():\n",
    "    return 1,3,[3,4,5,\"ashiq\"],(3,4,5,6) # we can return multiple entities"
   ]
  },
  {
   "cell_type": "code",
   "execution_count": 50,
   "id": "d84c7bf7",
   "metadata": {},
   "outputs": [
    {
     "data": {
      "text/plain": [
       "(1, 3, [3, 4, 5, 'ashiq'], (3, 4, 5, 6))"
      ]
     },
     "execution_count": 50,
     "metadata": {},
     "output_type": "execute_result"
    }
   ],
   "source": [
    "test6()"
   ]
  },
  {
   "cell_type": "code",
   "execution_count": 51,
   "id": "70fb431a",
   "metadata": {},
   "outputs": [
    {
     "data": {
      "text/plain": [
       "tuple"
      ]
     },
     "execution_count": 51,
     "metadata": {},
     "output_type": "execute_result"
    }
   ],
   "source": [
    "type(test6())"
   ]
  },
  {
   "cell_type": "code",
   "execution_count": 54,
   "id": "47a52e94",
   "metadata": {},
   "outputs": [
    {
     "data": {
      "text/plain": [
       "3"
      ]
     },
     "execution_count": 54,
     "metadata": {},
     "output_type": "execute_result"
    }
   ],
   "source": [
    "test6()[1]"
   ]
  },
  {
   "cell_type": "code",
   "execution_count": 56,
   "id": "a97cb363",
   "metadata": {},
   "outputs": [],
   "source": [
    "def test7():\n",
    "    return 1,3,[3,4,5,\"ashiq\"],(3,4,5,6)"
   ]
  },
  {
   "cell_type": "code",
   "execution_count": 57,
   "id": "50e79534",
   "metadata": {},
   "outputs": [
    {
     "data": {
      "text/plain": [
       "(1, 3, [3, 4, 5, 'ashiq'], (3, 4, 5, 6))"
      ]
     },
     "execution_count": 57,
     "metadata": {},
     "output_type": "execute_result"
    }
   ],
   "source": [
    "test7()"
   ]
  },
  {
   "cell_type": "code",
   "execution_count": 58,
   "id": "a2fd0de6",
   "metadata": {},
   "outputs": [],
   "source": [
    "a,b,c,d=test7() #unpacking the elemnets of the tuple"
   ]
  },
  {
   "cell_type": "code",
   "execution_count": 59,
   "id": "3353412f",
   "metadata": {},
   "outputs": [
    {
     "data": {
      "text/plain": [
       "1"
      ]
     },
     "execution_count": 59,
     "metadata": {},
     "output_type": "execute_result"
    }
   ],
   "source": [
    "a"
   ]
  },
  {
   "cell_type": "code",
   "execution_count": 60,
   "id": "b8d37a4c",
   "metadata": {},
   "outputs": [
    {
     "data": {
      "text/plain": [
       "3"
      ]
     },
     "execution_count": 60,
     "metadata": {},
     "output_type": "execute_result"
    }
   ],
   "source": [
    "b"
   ]
  },
  {
   "cell_type": "code",
   "execution_count": 61,
   "id": "fdb88ac4",
   "metadata": {},
   "outputs": [
    {
     "data": {
      "text/plain": [
       "[3, 4, 5, 'ashiq']"
      ]
     },
     "execution_count": 61,
     "metadata": {},
     "output_type": "execute_result"
    }
   ],
   "source": [
    "c"
   ]
  },
  {
   "cell_type": "code",
   "execution_count": 62,
   "id": "d79d0e5b",
   "metadata": {},
   "outputs": [
    {
     "data": {
      "text/plain": [
       "(3, 4, 5, 6)"
      ]
     },
     "execution_count": 62,
     "metadata": {},
     "output_type": "execute_result"
    }
   ],
   "source": [
    "d"
   ]
  },
  {
   "cell_type": "code",
   "execution_count": 63,
   "id": "5369c737",
   "metadata": {},
   "outputs": [],
   "source": [
    "a=1\n",
    "b=2\n",
    "c=\"ashiq\""
   ]
  },
  {
   "cell_type": "code",
   "execution_count": 65,
   "id": "741aecc9",
   "metadata": {},
   "outputs": [],
   "source": [
    "a,b,c=1,2,\"sidh\""
   ]
  },
  {
   "cell_type": "code",
   "execution_count": 66,
   "id": "31a14722",
   "metadata": {},
   "outputs": [
    {
     "data": {
      "text/plain": [
       "1"
      ]
     },
     "execution_count": 66,
     "metadata": {},
     "output_type": "execute_result"
    }
   ],
   "source": [
    "a"
   ]
  },
  {
   "cell_type": "code",
   "execution_count": 67,
   "id": "56ab9684",
   "metadata": {},
   "outputs": [
    {
     "data": {
      "text/plain": [
       "'sidh'"
      ]
     },
     "execution_count": 67,
     "metadata": {},
     "output_type": "execute_result"
    }
   ],
   "source": [
    "c"
   ]
  },
  {
   "cell_type": "code",
   "execution_count": 68,
   "id": "13b60571",
   "metadata": {},
   "outputs": [],
   "source": [
    "def test8():\n",
    "    a=4*5+8\n",
    "    return a"
   ]
  },
  {
   "cell_type": "code",
   "execution_count": 71,
   "id": "c4c55029",
   "metadata": {},
   "outputs": [
    {
     "data": {
      "text/plain": [
       "28"
      ]
     },
     "execution_count": 71,
     "metadata": {},
     "output_type": "execute_result"
    }
   ],
   "source": [
    "test8()"
   ]
  },
  {
   "cell_type": "code",
   "execution_count": 72,
   "id": "324032de",
   "metadata": {},
   "outputs": [
    {
     "data": {
      "text/plain": [
       "37"
      ]
     },
     "execution_count": 72,
     "metadata": {},
     "output_type": "execute_result"
    }
   ],
   "source": [
    "test8()+9"
   ]
  },
  {
   "cell_type": "code",
   "execution_count": 87,
   "id": "2b040671",
   "metadata": {},
   "outputs": [
    {
     "name": "stdout",
     "output_type": "stream",
     "text": [
      "44\n"
     ]
    }
   ],
   "source": [
    "l=[2,3,4,5,6,7,8,9]\n",
    "sum=0   #inbuilt funtion\n",
    "for ele in l:\n",
    "    #print(f\"{ele} and then the index {l.index(ele)}\")\n",
    "    sum=sum+ ele\n",
    "print(sum)"
   ]
  },
  {
   "cell_type": "code",
   "execution_count": 89,
   "id": "54ff977c",
   "metadata": {},
   "outputs": [
    {
     "name": "stdout",
     "output_type": "stream",
     "text": [
      "0\n",
      "1\n",
      "2\n",
      "3\n",
      "4\n",
      "5\n",
      "6\n",
      "7\n"
     ]
    }
   ],
   "source": [
    "l=[2,3,4,5,6,7,8,9]\n",
    "for ele in l:\n",
    "    print(l.index(ele))"
   ]
  },
  {
   "cell_type": "code",
   "execution_count": 100,
   "id": "518c8b4e",
   "metadata": {},
   "outputs": [
    {
     "name": "stdout",
     "output_type": "stream",
     "text": [
      "15\n"
     ]
    }
   ],
   "source": [
    "l=[1,2,3,4,5,6,7,8]\n",
    "i=0\n",
    "for ele in l:\n",
    "    l[i]=l[i]+l[i+1]\n",
    "    l.remove(l[1])\n",
    "print(l[i])"
   ]
  },
  {
   "cell_type": "code",
   "execution_count": 128,
   "id": "2692bc8a",
   "metadata": {},
   "outputs": [],
   "source": [
    "def test9():\n",
    "   l=[2,3,4,5,6,7,8,9,'ashiq']\n",
    "   sum=0  \n",
    "   for ele in l:\n",
    "      if int==type(ele):\n",
    "        sum=sum+ ele\n",
    "      return sum"
   ]
  },
  {
   "cell_type": "code",
   "execution_count": 118,
   "id": "6370b758",
   "metadata": {},
   "outputs": [
    {
     "name": "stdout",
     "output_type": "stream",
     "text": [
      "2\n",
      "5\n",
      "9\n",
      "14\n",
      "20\n",
      "27\n",
      "35\n",
      "44\n"
     ]
    }
   ],
   "source": [
    "l=[2,3,4,5,6,7,8,9,'ashiq']\n",
    "sum=0  \n",
    "for ele in l:\n",
    "  if int==type(ele):\n",
    "    sum=sum+ ele\n",
    "    print(sum)"
   ]
  },
  {
   "cell_type": "code",
   "execution_count": 139,
   "id": "9a11ece1",
   "metadata": {},
   "outputs": [
    {
     "name": "stdout",
     "output_type": "stream",
     "text": [
      "4\n",
      "5\n",
      "6\n",
      "7\n",
      "7\n",
      "8\n",
      "4.56\n"
     ]
    }
   ],
   "source": [
    "l1=[4,5,6,7,7,8,\"kuamr\",4.56]\n",
    "for ele in l1:\n",
    "    if int==type(ele) or float==type(ele):\n",
    "        print(ele)"
   ]
  },
  {
   "cell_type": "code",
   "execution_count": 152,
   "id": "c183bac6",
   "metadata": {},
   "outputs": [],
   "source": [
    "l1=[4,5,6,7,7,8,\"kumar\",4.56]\n",
    "def test10(l1):\n",
    "    sum=0\n",
    "    for ele in l1:\n",
    "        if int==type(ele):\n",
    "            sum=sum+ele\n",
    "    return sum  #please note the indentation properly \n"
   ]
  },
  {
   "cell_type": "code",
   "execution_count": 154,
   "id": "02f2cefc",
   "metadata": {},
   "outputs": [
    {
     "data": {
      "text/plain": [
       "37"
      ]
     },
     "execution_count": 154,
     "metadata": {},
     "output_type": "execute_result"
    }
   ],
   "source": [
    "test10(l1)"
   ]
  },
  {
   "cell_type": "code",
   "execution_count": 160,
   "id": "cf901fa4",
   "metadata": {},
   "outputs": [
    {
     "ename": "TypeError",
     "evalue": "test11() missing 2 required positional arguments: 'a' and 'b'",
     "output_type": "error",
     "traceback": [
      "\u001b[1;31m---------------------------------------------------------------------------\u001b[0m",
      "\u001b[1;31mTypeError\u001b[0m                                 Traceback (most recent call last)",
      "\u001b[1;32m~\\AppData\\Local\\Temp\\ipykernel_20804\\894027107.py\u001b[0m in \u001b[0;36m<module>\u001b[1;34m\u001b[0m\n\u001b[1;32m----> 1\u001b[1;33m \u001b[0mtest11\u001b[0m\u001b[1;33m(\u001b[0m\u001b[1;33m)\u001b[0m\u001b[1;33m\u001b[0m\u001b[1;33m\u001b[0m\u001b[0m\n\u001b[0m",
      "\u001b[1;31mTypeError\u001b[0m: test11() missing 2 required positional arguments: 'a' and 'b'"
     ]
    }
   ],
   "source": [
    "test11() #no arguments are being passed here ,so it throws an error "
   ]
  },
  {
   "cell_type": "code",
   "execution_count": 161,
   "id": "99cb2890",
   "metadata": {},
   "outputs": [
    {
     "data": {
      "text/plain": [
       "5"
      ]
     },
     "execution_count": 161,
     "metadata": {},
     "output_type": "execute_result"
    }
   ],
   "source": [
    "test11(2,3)"
   ]
  },
  {
   "cell_type": "code",
   "execution_count": 162,
   "id": "f335ae0e",
   "metadata": {},
   "outputs": [
    {
     "data": {
      "text/plain": [
       "'abdulashiq'"
      ]
     },
     "execution_count": 162,
     "metadata": {},
     "output_type": "execute_result"
    }
   ],
   "source": [
    "test11(\"abdul\",\"ashiq\")"
   ]
  },
  {
   "cell_type": "code",
   "execution_count": 159,
   "id": "983c98e0",
   "metadata": {},
   "outputs": [],
   "source": [
    "def test11(a,b):\n",
    "    return a+b"
   ]
  },
  {
   "cell_type": "code",
   "execution_count": 163,
   "id": "590d651d",
   "metadata": {},
   "outputs": [
    {
     "data": {
      "text/plain": [
       "12"
      ]
     },
     "execution_count": 163,
     "metadata": {},
     "output_type": "execute_result"
    }
   ],
   "source": [
    "test11(a=7,b=5)"
   ]
  },
  {
   "cell_type": "code",
   "execution_count": 164,
   "id": "8f446d2c",
   "metadata": {},
   "outputs": [
    {
     "data": {
      "text/plain": [
       "9"
      ]
     },
     "execution_count": 164,
     "metadata": {},
     "output_type": "execute_result"
    }
   ],
   "source": [
    "test11(b=4,a=5)"
   ]
  },
  {
   "cell_type": "code",
   "execution_count": 181,
   "id": "b81bf40c",
   "metadata": {},
   "outputs": [],
   "source": [
    "l=[3,4,5,6,7,8,\"abdul\",5,6,7,\"kumar\",\"ineuron\"]"
   ]
  },
  {
   "cell_type": "code",
   "execution_count": 196,
   "id": "40284a15",
   "metadata": {},
   "outputs": [],
   "source": [
    "def test12(l):\n",
    "    \"\"\" this is my function which will help you to separate a string from list into a new list \"\"\"\n",
    "    list1=list()\n",
    "    for ele in l:\n",
    "        if str==type(ele):\n",
    "            list1.append(ele)\n",
    "    return list1"
   ]
  },
  {
   "cell_type": "code",
   "execution_count": 197,
   "id": "13122e97",
   "metadata": {},
   "outputs": [
    {
     "data": {
      "text/plain": [
       "['abdul', 'kumar', 'ineuron']"
      ]
     },
     "execution_count": 197,
     "metadata": {},
     "output_type": "execute_result"
    }
   ],
   "source": [
    "test12(l)"
   ]
  },
  {
   "cell_type": "code",
   "execution_count": 198,
   "id": "1590f2cb",
   "metadata": {},
   "outputs": [],
   "source": [
    "l2=[\"fasda\",\"fadss\",\"wjvbwv\",\"sqjbqie\",456,56]\n"
   ]
  },
  {
   "cell_type": "code",
   "execution_count": 199,
   "id": "d1871ecd",
   "metadata": {},
   "outputs": [
    {
     "data": {
      "text/plain": [
       "['fasda', 'fadss', 'wjvbwv', 'sqjbqie']"
      ]
     },
     "execution_count": 199,
     "metadata": {},
     "output_type": "execute_result"
    }
   ],
   "source": [
    "test12(l2)"
   ]
  },
  {
   "cell_type": "code",
   "execution_count": 200,
   "id": "5479de1e",
   "metadata": {},
   "outputs": [
    {
     "data": {
      "text/plain": [
       "6"
      ]
     },
     "execution_count": 200,
     "metadata": {},
     "output_type": "execute_result"
    }
   ],
   "source": [
    "len(\"fasfwf\")"
   ]
  },
  {
   "cell_type": "code",
   "execution_count": 201,
   "id": "43273ddf",
   "metadata": {},
   "outputs": [
    {
     "name": "stdout",
     "output_type": "stream",
     "text": [
      "\n"
     ]
    }
   ],
   "source": [
    "print()"
   ]
  },
  {
   "cell_type": "code",
   "execution_count": 202,
   "id": "12816bd5",
   "metadata": {},
   "outputs": [
    {
     "ename": "TypeError",
     "evalue": "test12() missing 1 required positional argument: 'l'",
     "output_type": "error",
     "traceback": [
      "\u001b[1;31m---------------------------------------------------------------------------\u001b[0m",
      "\u001b[1;31mTypeError\u001b[0m                                 Traceback (most recent call last)",
      "\u001b[1;32m~\\AppData\\Local\\Temp\\ipykernel_20804\\1723208909.py\u001b[0m in \u001b[0;36m<module>\u001b[1;34m\u001b[0m\n\u001b[1;32m----> 1\u001b[1;33m \u001b[0mtest12\u001b[0m\u001b[1;33m(\u001b[0m\u001b[1;33m)\u001b[0m\u001b[1;33m\u001b[0m\u001b[1;33m\u001b[0m\u001b[0m\n\u001b[0m",
      "\u001b[1;31mTypeError\u001b[0m: test12() missing 1 required positional argument: 'l'"
     ]
    }
   ],
   "source": [
    "test12()"
   ]
  },
  {
   "cell_type": "code",
   "execution_count": 203,
   "id": "11472a61",
   "metadata": {},
   "outputs": [
    {
     "data": {
      "text/plain": [
       "['abdul', 'kumar', 'ineuron']"
      ]
     },
     "execution_count": 203,
     "metadata": {},
     "output_type": "execute_result"
    }
   ],
   "source": [
    "test12(l)"
   ]
  },
  {
   "cell_type": "code",
   "execution_count": null,
   "id": "bd5e4d8d",
   "metadata": {},
   "outputs": [],
   "source": [
    "1.write a function which will try to find out length of a string without using an in build function\n",
    "2.write a function which will be able to print an index of the list element \n",
    "3.write a function which will be able to print an ip address of your system\n",
    "4.write a function which will shutdown your system \n",
    "5.write a fucntion which will take a input as a list with any kind of numeric value and give an out as a multilication of all the numeric data\n",
    "l=[3.5,6.56,4,5,\"sudh\",\"ineuron\",\"fsda bootcamp2.0\"]\n",
    "7.write a function which will be able to send a mail to anyone\n",
    "8.write a function which will be able to read a doc/word file from your system\n",
    "mail id =query@ineuron.ai\n",
    "submit your git link to mail"
   ]
  },
  {
   "cell_type": "code",
   "execution_count": 217,
   "id": "43315afb",
   "metadata": {},
   "outputs": [
    {
     "data": {
      "text/plain": [
       "5"
      ]
     },
     "execution_count": 217,
     "metadata": {},
     "output_type": "execute_result"
    }
   ],
   "source": [
    "a=\"ashiq\"\n",
    "len(a)"
   ]
  },
  {
   "cell_type": "code",
   "execution_count": 228,
   "id": "f8f81d73",
   "metadata": {},
   "outputs": [
    {
     "name": "stdout",
     "output_type": "stream",
     "text": [
      "11\n"
     ]
    }
   ],
   "source": [
    "a=\"ashiq abdul\"\n",
    "a=list(a)\n",
    "cou=0\n",
    "for ele in a:\n",
    "    if ele!=\"\":\n",
    "        cou=cou+1\n",
    "print(cou)"
   ]
  },
  {
   "cell_type": "code",
   "execution_count": null,
   "id": "96b9bbe3",
   "metadata": {},
   "outputs": [],
   "source": []
  },
  {
   "cell_type": "code",
   "execution_count": 230,
   "id": "5f9f7895",
   "metadata": {},
   "outputs": [],
   "source": []
  },
  {
   "cell_type": "code",
   "execution_count": 229,
   "id": "694b5845",
   "metadata": {
    "scrolled": true
   },
   "outputs": [],
   "source": []
  },
  {
   "cell_type": "code",
   "execution_count": null,
   "id": "0a7cc551",
   "metadata": {},
   "outputs": [],
   "source": []
  },
  {
   "cell_type": "code",
   "execution_count": null,
   "id": "cd446f85",
   "metadata": {},
   "outputs": [],
   "source": []
  }
 ],
 "metadata": {
  "kernelspec": {
   "display_name": "Python 3 (ipykernel)",
   "language": "python",
   "name": "python3"
  },
  "language_info": {
   "codemirror_mode": {
    "name": "ipython",
    "version": 3
   },
   "file_extension": ".py",
   "mimetype": "text/x-python",
   "name": "python",
   "nbconvert_exporter": "python",
   "pygments_lexer": "ipython3",
   "version": "3.9.13"
  }
 },
 "nbformat": 4,
 "nbformat_minor": 5
}
